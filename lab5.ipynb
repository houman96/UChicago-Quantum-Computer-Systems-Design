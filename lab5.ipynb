{
 "cells": [
  {
   "cell_type": "markdown",
   "id": "b2b202c8",
   "metadata": {},
   "source": [
    "Before you turn this lab in, make sure everything runs as expected. **Restart and run all cells** (in the menubar, select Kernel$\\rightarrow$Restart & Run All) then check the output is as expected and there are no errors.  Also remember to **Save** before uploading this file (File$\\rightarrow$Save and Checkpoint)."
   ]
  },
  {
   "cell_type": "markdown",
   "id": "6b9276b0",
   "metadata": {},
   "source": [
    "---"
   ]
  },
  {
   "cell_type": "markdown",
   "id": "respiratory-evans",
   "metadata": {},
   "source": [
    "# <div align=\"center\">Quantum Computer Systems Design</div>&nbsp;  <div align=\"center\">Lab 5</div>\n",
    "\n",
    "In the videos, you saw the steps to compile and optimize a quantum algorithm.  For this lab, you will again start with a small circuit, the Cuccaro adder.  This by itself is not a quantum algorithm but can be used as a component in algorithms.  The Cuccaro adder takes as input two quantum registers, a carry-in qubit, and a carry-out qubit and as output overwrites one of the registers and the carry-out bit with the sum.  In the previous lab you decomposed adder circuits.  In this lab you will optimize these decomposed circuits to find equivalent circuits with fewer gates.\n",
    "\n",
    "\n",
    "# 0.1. Cuccaro Adder Definition\n",
    "\n",
    "Below is the definition of the Cuccaro adder within Qiskit.  Run each of the below cells untill you reach question 1.1 to start."
   ]
  },
  {
   "cell_type": "code",
   "execution_count": 1,
   "id": "fewer-warrant",
   "metadata": {},
   "outputs": [],
   "source": [
    "import numpy as np\n",
    "import qiskit\n",
    "from qiskit import QuantumCircuit, ClassicalRegister, QuantumRegister, execute\n",
    "from qiskit.circuit.quantumregister import Qubit\n",
    "from qiskit.tools.visualization import circuit_drawer\n",
    "from qiskit.quantum_info import state_fidelity, random_unitary\n",
    "from qiskit.quantum_info.operators.predicates import matrix_equal\n",
    "from qiskit import BasicAer\n",
    "backend = BasicAer.get_backend('qasm_simulator')\n",
    "from IPython.display import display"
   ]
  },
  {
   "cell_type": "code",
   "execution_count": 2,
   "id": "reasonable-supplement",
   "metadata": {},
   "outputs": [
    {
     "name": "stdout",
     "output_type": "stream",
     "text": [
      "MAJ:\n"
     ]
    },
    {
     "data": {
      "text/html": [
       "<pre style=\"word-wrap: normal;white-space: pre;background: #fff0;line-height: 1.1;font-family: &quot;Courier New&quot;,Courier,monospace\">          ┌───┐     \n",
       "q_0: ─────┤ X ├──■──\n",
       "     ┌───┐└─┬─┘  │  \n",
       "q_1: ┤ X ├──┼────■──\n",
       "     └─┬─┘  │  ┌─┴─┐\n",
       "q_2: ──■────■──┤ X ├\n",
       "               └───┘</pre>"
      ],
      "text/plain": [
       "          ┌───┐     \n",
       "q_0: ─────┤ X ├──■──\n",
       "     ┌───┐└─┬─┘  │  \n",
       "q_1: ┤ X ├──┼────■──\n",
       "     └─┬─┘  │  ┌─┴─┐\n",
       "q_2: ──■────■──┤ X ├\n",
       "               └───┘"
      ]
     },
     "metadata": {},
     "output_type": "display_data"
    },
    {
     "name": "stdout",
     "output_type": "stream",
     "text": [
      "UMA2:\n"
     ]
    },
    {
     "data": {
      "text/html": [
       "<pre style=\"word-wrap: normal;white-space: pre;background: #fff0;line-height: 1.1;font-family: &quot;Courier New&quot;,Courier,monospace\">          ┌───┐     \n",
       "q_0: ──■──┤ X ├──■──\n",
       "       │  └─┬─┘┌─┴─┐\n",
       "q_1: ──■────┼──┤ X ├\n",
       "     ┌─┴─┐  │  └───┘\n",
       "q_2: ┤ X ├──■───────\n",
       "     └───┘          </pre>"
      ],
      "text/plain": [
       "          ┌───┐     \n",
       "q_0: ──■──┤ X ├──■──\n",
       "       │  └─┬─┘┌─┴─┐\n",
       "q_1: ──■────┼──┤ X ├\n",
       "     ┌─┴─┐  │  └───┘\n",
       "q_2: ┤ X ├──■───────\n",
       "     └───┘          "
      ]
     },
     "metadata": {},
     "output_type": "display_data"
    },
    {
     "name": "stdout",
     "output_type": "stream",
     "text": [
      "UMA3:\n"
     ]
    },
    {
     "data": {
      "text/html": [
       "<pre style=\"word-wrap: normal;white-space: pre;background: #fff0;line-height: 1.1;font-family: &quot;Courier New&quot;,Courier,monospace\">                         ┌───┐     \n",
       "q_0: ───────■────■───────┤ X ├─────\n",
       "     ┌───┐┌─┴─┐  │  ┌───┐└─┬─┘┌───┐\n",
       "q_1: ┤ X ├┤ X ├──■──┤ X ├──┼──┤ X ├\n",
       "     └───┘└───┘┌─┴─┐└───┘  │  └─┬─┘\n",
       "q_2: ──────────┤ X ├───────■────■──\n",
       "               └───┘               </pre>"
      ],
      "text/plain": [
       "                         ┌───┐     \n",
       "q_0: ───────■────■───────┤ X ├─────\n",
       "     ┌───┐┌─┴─┐  │  ┌───┐└─┬─┘┌───┐\n",
       "q_1: ┤ X ├┤ X ├──■──┤ X ├──┼──┤ X ├\n",
       "     └───┘└───┘┌─┴─┐└───┘  │  └─┬─┘\n",
       "q_2: ──────────┤ X ├───────■────■──\n",
       "               └───┘               "
      ]
     },
     "metadata": {},
     "output_type": "display_data"
    },
    {
     "name": "stdout",
     "output_type": "stream",
     "text": [
      "Cuccaro Adder:\n"
     ]
    },
    {
     "data": {
      "text/html": [
       "<pre style=\"word-wrap: normal;white-space: pre;background: #fff0;line-height: 1.1;font-family: &quot;Courier New&quot;,Courier,monospace\">        ┌──────┐                                       ┌───────┐\n",
       "  c_in: ┤0     ├───────────────────────────────────────┤0      ├\n",
       "        │      │                                       │       │\n",
       "b->s_0: ┤1     ├───────────────────────────────────────┤1      ├\n",
       "        │      │┌──────┐                      ┌───────┐│       │\n",
       "b->s_1: ┤  MAJ ├┤1     ├──────────────────────┤1      ├┤  UMA3 ├\n",
       "        │      ││      │┌──────┐     ┌───────┐│       ││       │\n",
       "b->s_2: ┤      ├┤      ├┤1     ├─────┤1      ├┤       ├┤       ├\n",
       "        │      ││  MAJ ││      │     │       ││  UMA3 ││       │\n",
       "   a_0: ┤2     ├┤0     ├┤      ├─────┤       ├┤0      ├┤2      ├\n",
       "        └──────┘│      ││  MAJ │     │  UMA3 ││       │└───────┘\n",
       "   a_1: ────────┤2     ├┤0     ├─────┤0      ├┤2      ├─────────\n",
       "                └──────┘│      │     │       │└───────┘         \n",
       "   a_2: ────────────────┤2     ├──■──┤2      ├──────────────────\n",
       "                        └──────┘┌─┴─┐└───────┘                  \n",
       " c_out: ────────────────────────┤ X ├───────────────────────────\n",
       "                                └───┘                           </pre>"
      ],
      "text/plain": [
       "        ┌──────┐                                       ┌───────┐\n",
       "  c_in: ┤0     ├───────────────────────────────────────┤0      ├\n",
       "        │      │                                       │       │\n",
       "b->s_0: ┤1     ├───────────────────────────────────────┤1      ├\n",
       "        │      │┌──────┐                      ┌───────┐│       │\n",
       "b->s_1: ┤  MAJ ├┤1     ├──────────────────────┤1      ├┤  UMA3 ├\n",
       "        │      ││      │┌──────┐     ┌───────┐│       ││       │\n",
       "b->s_2: ┤      ├┤      ├┤1     ├─────┤1      ├┤       ├┤       ├\n",
       "        │      ││  MAJ ││      │     │       ││  UMA3 ││       │\n",
       "   a_0: ┤2     ├┤0     ├┤      ├─────┤       ├┤0      ├┤2      ├\n",
       "        └──────┘│      ││  MAJ │     │  UMA3 ││       │└───────┘\n",
       "   a_1: ────────┤2     ├┤0     ├─────┤0      ├┤2      ├─────────\n",
       "                └──────┘│      │     │       │└───────┘         \n",
       "   a_2: ────────────────┤2     ├──■──┤2      ├──────────────────\n",
       "                        └──────┘┌─┴─┐└───────┘                  \n",
       " c_out: ────────────────────────┤ X ├───────────────────────────\n",
       "                                └───┘                           "
      ]
     },
     "execution_count": 2,
     "metadata": {},
     "output_type": "execute_result"
    }
   ],
   "source": [
    "# Implementation of the Cuccaro Quantum Adder from\n",
    "#   https://github.com/jmbaker94/quantumcircuitbenchmarks\n",
    "# Design from the paper\n",
    "#   https://arxiv.org/abs/quant-ph/0410184\n",
    "\n",
    "# Majority gate\n",
    "maj_c = QuantumCircuit(3, name='MAJ')\n",
    "maj_c.cx(2, 1)\n",
    "maj_c.cx(2, 0)\n",
    "maj_c.ccx(0, 1, 2)\n",
    "maj = maj_c.to_gate(label='MAJ')\n",
    "print('MAJ:')\n",
    "display(maj_c.draw(fold=-1))\n",
    "\n",
    "# 2-CNOT version of UnMajority and Add gate\n",
    "uma2_c = QuantumCircuit(3, name='UMA2')\n",
    "uma2_c.toffoli(0, 1, 2)\n",
    "uma2_c.cx(2, 0)\n",
    "uma2_c.cx(0, 1)\n",
    "uma2 = uma2_c.to_gate(label='UMA2')\n",
    "print('UMA2:')\n",
    "display(uma2_c.draw(fold=-1))\n",
    "\n",
    "# 3-CNOT version of UnMajority and Add gate\n",
    "# (Allows more parallelism in the circuit)\n",
    "uma3_c = QuantumCircuit(3, name='UMA3')\n",
    "uma3_c.x(1)\n",
    "uma3_c.cx(0, 1)\n",
    "uma3_c.toffoli(0, 1, 2)\n",
    "uma3_c.x(1)\n",
    "uma3_c.cx(2, 0)\n",
    "uma3_c.cx(2, 1)\n",
    "uma3 = uma3_c.to_gate(label='UMA3')\n",
    "print('UMA3:')\n",
    "display(uma3_c.draw(fold=-1))\n",
    "\n",
    "def cuccaro_adder(c, cin, a, b, cout, uma=uma3):\n",
    "    c.append(maj, [cin, b[0], a[0]])\n",
    "    for i in range(1, len(b)):\n",
    "        c.append(maj, [a[i-1], b[i], a[i]])\n",
    "\n",
    "    c.cx(a[-1], cout)\n",
    "\n",
    "    for i in reversed(range(1, len(b))):\n",
    "        c.append(uma, [a[i-1], b[i], a[i]])\n",
    "    c.append(uma, [cin, b[0], a[0]])\n",
    "\n",
    "def generate_adder_circuit(n, uma=uma3):\n",
    "    if n % 2 != 0:\n",
    "        raise ValueError('Odd number of qubits')\n",
    "\n",
    "    cin = QuantumRegister(1, 'c_in')\n",
    "    a = QuantumRegister(n//2-1, 'a')\n",
    "    b = QuantumRegister(n//2-1, 'b->s')\n",
    "    cout = QuantumRegister(1, 'c_out')\n",
    "    c = QuantumCircuit(cin, b, a, cout)\n",
    "        \n",
    "    cuccaro_adder(c, cin, a, b, cout, uma=uma)\n",
    "    return c\n",
    "\n",
    "print('Cuccaro Adder:')\n",
    "cuccaro8 = generate_adder_circuit(8)\n",
    "cuccaro8.draw(fold=-1)"
   ]
  },
  {
   "cell_type": "code",
   "execution_count": 3,
   "id": "25082d65",
   "metadata": {},
   "outputs": [],
   "source": [
    "def count_cnots(circuit, ignore_toffoli=False):\n",
    "    '''A helper function that may or may not be useful.'''\n",
    "    cnot_count = 0\n",
    "    for [gate, qubits, cbits] in circuit:\n",
    "        if len(qubits) <= 1 or (ignore_toffoli and len(qubits) == 3):\n",
    "            pass\n",
    "        elif len(qubits) == 2:\n",
    "            cnot_count += 1\n",
    "        else:\n",
    "            raise ValueError('The circuit contains large gates that have not been decomposed')\n",
    "    return cnot_count"
   ]
  },
  {
   "cell_type": "code",
   "execution_count": 4,
   "id": "demographic-saturn",
   "metadata": {},
   "outputs": [
    {
     "name": "stdout",
     "output_type": "stream",
     "text": [
      "OPENQASM 2.0;\n",
      "include \"qelib1.inc\";\n",
      "gate gate_MAJ q0,q1,q2 { cx q2,q1; cx q2,q0; ccx q0,q1,q2; }\n",
      "gate gate_UMA3 q0,q1,q2 { x q1; cx q0,q1; ccx q0,q1,q2; x q1; cx q2,q0; cx q2,q1; }\n",
      "qreg c_in[1];\n",
      "qreg b->s[3];\n",
      "qreg a[3];\n",
      "qreg c_out[1];\n",
      "gate_MAJ c_in[0],b->s[0],a[0];\n",
      "gate_MAJ a[0],b->s[1],a[1];\n",
      "gate_MAJ a[1],b->s[2],a[2];\n",
      "cx a[2],c_out[0];\n",
      "gate_UMA3 a[1],b->s[2],a[2];\n",
      "gate_UMA3 a[0],b->s[1],a[1];\n",
      "gate_UMA3 c_in[0],b->s[0],a[0];\n",
      "\n"
     ]
    }
   ],
   "source": [
    "# Export to QASM\n",
    "print(cuccaro8.qasm())"
   ]
  },
  {
   "cell_type": "code",
   "execution_count": 5,
   "id": "opened-custom",
   "metadata": {},
   "outputs": [
    {
     "data": {
      "text/html": [
       "<pre style=\"word-wrap: normal;white-space: pre;background: #fff0;line-height: 1.1;font-family: &quot;Courier New&quot;,Courier,monospace\">             ┌───────┐ ░             \n",
       "  c_in: ─────┤0      ├─░─────────────\n",
       "        ┌───┐│       │ ░ ┌─┐         \n",
       "b->s_0: ┤ X ├┤1      ├─░─┤M├─────────\n",
       "        ├───┤│       │ ░ └╥┘┌─┐      \n",
       "b->s_1: ┤ X ├┤2      ├─░──╫─┤M├──────\n",
       "        └───┘│       │ ░  ║ └╥┘┌─┐   \n",
       "b->s_2: ─────┤3      ├─░──╫──╫─┤M├───\n",
       "             │  CUCC │ ░  ║  ║ └╥┘   \n",
       "   a_0: ─────┤4      ├─░──╫──╫──╫────\n",
       "        ┌───┐│       │ ░  ║  ║  ║    \n",
       "   a_1: ┤ X ├┤5      ├─░──╫──╫──╫────\n",
       "        └───┘│       │ ░  ║  ║  ║    \n",
       "   a_2: ─────┤6      ├─░──╫──╫──╫────\n",
       "             │       │ ░  ║  ║  ║ ┌─┐\n",
       " c_out: ─────┤7      ├─░──╫──╫──╫─┤M├\n",
       "             └───────┘ ░  ║  ║  ║ └╥┘\n",
       " sum: 4/══════════════════╩══╩══╩══╩═\n",
       "                          0  1  2  3 </pre>"
      ],
      "text/plain": [
       "             ┌───────┐ ░             \n",
       "  c_in: ─────┤0      ├─░─────────────\n",
       "        ┌───┐│       │ ░ ┌─┐         \n",
       "b->s_0: ┤ X ├┤1      ├─░─┤M├─────────\n",
       "        ├───┤│       │ ░ └╥┘┌─┐      \n",
       "b->s_1: ┤ X ├┤2      ├─░──╫─┤M├──────\n",
       "        └───┘│       │ ░  ║ └╥┘┌─┐   \n",
       "b->s_2: ─────┤3      ├─░──╫──╫─┤M├───\n",
       "             │  CUCC │ ░  ║  ║ └╥┘   \n",
       "   a_0: ─────┤4      ├─░──╫──╫──╫────\n",
       "        ┌───┐│       │ ░  ║  ║  ║    \n",
       "   a_1: ┤ X ├┤5      ├─░──╫──╫──╫────\n",
       "        └───┘│       │ ░  ║  ║  ║    \n",
       "   a_2: ─────┤6      ├─░──╫──╫──╫────\n",
       "             │       │ ░  ║  ║  ║ ┌─┐\n",
       " c_out: ─────┤7      ├─░──╫──╫──╫─┤M├\n",
       "             └───────┘ ░  ║  ║  ║ └╥┘\n",
       " sum: 4/══════════════════╩══╩══╩══╩═\n",
       "                          0  1  2  3 "
      ]
     },
     "metadata": {},
     "output_type": "display_data"
    },
    {
     "data": {
      "text/plain": [
       "{'0101': 128}"
      ]
     },
     "execution_count": 5,
     "metadata": {},
     "output_type": "execute_result"
    }
   ],
   "source": [
    "# Try it out!\n",
    "n = 8\n",
    "cin = QuantumRegister(1, 'c_in')\n",
    "a = QuantumRegister(n//2-1, 'a')\n",
    "b = QuantumRegister(n//2-1, 'b->s')\n",
    "cout = QuantumRegister(1, 'c_out')\n",
    "creg = ClassicalRegister(n//2, 'sum')\n",
    "c = QuantumCircuit(cin, b, a, cout, creg)\n",
    "\n",
    "# Test on a specific input\n",
    "# carry-in=0 CHANGE ME!\n",
    "###c.x(cin[0])\n",
    "\n",
    "# a=2 (0b010) CHANGE ME!\n",
    "###c.x(a[0])\n",
    "c.x(a[1])\n",
    "###c.x(a[2])\n",
    "\n",
    "# b=3 (0b011) CHANGE ME!\n",
    "c.x(b[0])\n",
    "c.x(b[1])\n",
    "###c.x(b[2])\n",
    "\n",
    "#cuccaro_adder(c, cin, a, b, cout)\n",
    "c.append(cuccaro8.to_gate(label='CUCC'), [*cin, *b, *a, *cout])\n",
    "\n",
    "# Measure the result\n",
    "c.barrier()\n",
    "c.measure([*b, *cout], creg)\n",
    "\n",
    "# Show the circuit\n",
    "display(c.draw(fold=-1))\n",
    "\n",
    "# Simulate the result\n",
    "# 0 + 2 + 3 = 5 (0b0101)\n",
    "execute(c, backend, shots=128).result().get_counts(c)"
   ]
  },
  {
   "cell_type": "markdown",
   "id": "planned-proposal",
   "metadata": {},
   "source": [
    "# 1. Local Circuit Optimizations\n",
    "\n",
    "Now that you have decomposed the circuit into one- and two-qubit gates, you will look at optimizing the circuit at the one- and two-qubit gate level.  To keep things simple, you will only optimize the 8-qubit Cuccaro adder shown below."
   ]
  },
  {
   "cell_type": "code",
   "execution_count": 6,
   "id": "joined-basket",
   "metadata": {},
   "outputs": [
    {
     "name": "stdout",
     "output_type": "stream",
     "text": [
      "The fully decomposed Cuccaro adder (Qiskit default decomposition):\n"
     ]
    },
    {
     "data": {
      "text/html": [
       "<pre style=\"word-wrap: normal;white-space: pre;background: #fff0;line-height: 1.1;font-family: &quot;Courier New&quot;,Courier,monospace\">                       ┌───┐                                                  ┌───┐                                                                                                                                                                                                                                                                                                                                          ┌───┐      ┌───┐          \n",
       "  c_in: ───────────────┤ X ├───────────────────■─────────────────────■────■───┤ T ├───■─────────■─────────────────────────────────────────────────────────────────────────────────────────────────────────────────────────────────────────────────────────────────────────────────────────────────────────────────────────────────────────────────────────────────────────────────────────────■─────────────────────■────■───┤ T ├───■──┤ X ├──────────\n",
       "        ┌───┐          └─┬─┘                   │             ┌───┐   │  ┌─┴─┐┌┴───┴┐┌─┴─┐┌───┐┌─┴─┐                                                                                                                                                                                                                                                                                           │             ┌───┐   │  ┌─┴─┐┌┴───┴┐┌─┴─┐└─┬─┘┌───┐┌───┐\n",
       "b->s_0: ┤ X ├────────────┼─────────■───────────┼─────────■───┤ T ├───┼──┤ X ├┤ Tdg ├┤ X ├┤ X ├┤ X ├───────────────────────────────────────────────────────────────────────────────────────────────────────────────────────────────────────────────────────────────────────────────────────────────────────────────────────────────────────────────────────────────────────────────■───────────┼─────────■───┤ T ├───┼──┤ X ├┤ Tdg ├┤ X ├──┼──┤ X ├┤ X ├\n",
       "        └─┬─┘┌───┐       │         │           │         │   └───┘   │  └───┘└─────┘└───┘└───┘└───┘                       ┌───┐      ┌───┐┌─────┐┌───┐┌───┐┌───┐                                                                                                                                                                     ┌───┐      ┌───┐┌─────┐┌───┐┌───┐     ┌───┐  │           │         │   └───┘   │  └───┘└─────┘└───┘  │  └───┘└─┬─┘\n",
       "b->s_1: ──┼──┤ X ├───────┼─────────┼───────────┼─────────┼───────────┼──────────────────────────■─────────────────────■───┤ T ├──────┤ X ├┤ Tdg ├┤ X ├┤ X ├┤ X ├───────────────────────────────────────────────────────────────────────────────────────────────────────────────────────────────────────────■─────────────────────■───┤ T ├──────┤ X ├┤ Tdg ├┤ X ├┤ X ├─────┤ X ├──┼───────────┼─────────┼───────────┼─────────────────────┼─────────┼──\n",
       "          │  └─┬─┘┌───┐  │         │           │         │           │                          │                     │   └───┘      └─┬─┘└─────┘└─┬─┘└───┘└─┬─┘                            ┌───┐      ┌───┐┌─────┐┌───┐┌───┐┌───┐                            ┌───┐      ┌───┐┌─────┐┌───┐┌───┐     ┌───┐  │                     │   └───┘      └─┬─┘└─────┘└─┬─┘└───┘     └─┬─┘  │           │         │           │                     │         │  \n",
       "b->s_2: ──┼────┼──┤ X ├──┼─────────┼───────────┼─────────┼───────────┼──────────────────────────┼─────────────────────┼────────────────┼───────────┼─────────┼────■─────────────────────■───┤ T ├──────┤ X ├┤ Tdg ├┤ X ├┤ X ├┤ X ├──■─────────────────────■───┤ T ├──────┤ X ├┤ Tdg ├┤ X ├┤ X ├─────┤ X ├──┼─────────────────────┼────────────────┼───────────┼──────────────┼────┼───────────┼─────────┼───────────┼─────────────────────┼─────────┼──\n",
       "          │    │  └─┬─┘  │  ┌───┐┌─┴─┐┌─────┐┌─┴─┐┌───┐┌─┴─┐┌─────┐┌─┴─┐┌───┐ ┌───┐ ┌───┐       │                     │                │   ┌───┐   │         │    │                     │   └───┘      └─┬─┘└─────┘└─┬─┘└───┘└─┬─┘  │                     │   └───┘      └─┬─┘└─────┘└─┬─┘└───┘     └─┬─┘  │                     │                │   ┌───┐   │  ┌───┐┌───┐  │  ┌─┴─┐┌─────┐┌─┴─┐┌───┐┌─┴─┐┌─────┐┌─┴─┐┌───┐ ┌───┐        │         │  \n",
       "   a_0: ──■────┼────┼────■──┤ H ├┤ X ├┤ Tdg ├┤ X ├┤ T ├┤ X ├┤ Tdg ├┤ X ├┤ T ├─┤ H ├─┤ X ├───────┼───────────■─────────┼───────────■────■───┤ T ├───■─────────■────┼─────────────────────┼────────────────┼───────────┼─────────┼────┼─────────────────────┼────────────────┼───────────┼──────────────┼────┼───────────■─────────┼───────────■────■───┤ T ├───■──┤ X ├┤ H ├──┼──┤ X ├┤ Tdg ├┤ X ├┤ T ├┤ X ├┤ Tdg ├┤ X ├┤ T ├─┤ H ├────────■─────────■──\n",
       "               │    │       └───┘└───┘└─────┘└───┘└───┘└───┘└─────┘└───┘└───┘ └───┘ └─┬─┘┌───┐┌─┴─┐┌─────┐┌─┴─┐┌───┐┌─┴─┐┌─────┐┌─┴─┐┌───┐ ├───┤ ┌───┐            │                     │                │   ┌───┐   │         │    │                     │                │   ┌───┐   │  ┌───┐┌───┐  │  ┌─┴─┐┌─────┐┌─┴─┐┌───┐┌─┴─┐┌─────┐┌─┴─┐┌───┐ ├───┤      └─┬─┘└───┘  │  └───┘└─────┘└───┘└───┘└───┘└─────┘└───┘└───┘ └───┘                     \n",
       "   a_1: ───────■────┼─────────────────────────────────────────────────────────────────■──┤ H ├┤ X ├┤ Tdg ├┤ X ├┤ T ├┤ X ├┤ Tdg ├┤ X ├┤ T ├─┤ H ├─┤ X ├────────────┼───────────■─────────┼───────────■────■───┤ T ├───■─────────■────┼───────────■─────────┼───────────■────■───┤ T ├───■──┤ X ├┤ H ├──┼──┤ X ├┤ Tdg ├┤ X ├┤ T ├┤ X ├┤ Tdg ├┤ X ├┤ T ├─┤ H ├────────■─────────■─────────────────────────────────────────────────────────────────────────\n",
       "                    │                                                                    └───┘└───┘└─────┘└───┘└───┘└───┘└─────┘└───┘└───┘ └───┘ └─┬─┘┌───┐     ┌─┴─┐┌─────┐┌─┴─┐┌───┐┌─┴─┐┌─────┐┌─┴─┐┌───┐ ├───┤      ┌───┐     ┌─┴─┐┌─────┐┌─┴─┐┌───┐┌─┴─┐┌─────┐┌─┴─┐┌───┐ ├───┤      └─┬─┘└───┘  │  └───┘└─────┘└───┘└───┘└───┘└─────┘└───┘└───┘ └───┘                                                                                            \n",
       "   a_2: ────────────■──────────────────────────────────────────────────────────────────────────────────────────────────────────────────────────────■──┤ H ├─────┤ X ├┤ Tdg ├┤ X ├┤ T ├┤ X ├┤ Tdg ├┤ X ├┤ T ├─┤ H ├───■──┤ H ├─────┤ X ├┤ Tdg ├┤ X ├┤ T ├┤ X ├┤ Tdg ├┤ X ├┤ T ├─┤ H ├────────■─────────■────────────────────────────────────────────────────────────────────────────────────────────────────────────────────────────────────────────────\n",
       "                                                                                                                                                      └───┘     └───┘└─────┘└───┘└───┘└───┘└─────┘└───┘└───┘ └───┘ ┌─┴─┐└───┘     └───┘└─────┘└───┘└───┘└───┘└─────┘└───┘└───┘ └───┘                                                                                                                                                                   \n",
       " c_out: ───────────────────────────────────────────────────────────────────────────────────────────────────────────────────────────────────────────────────────────────────────────────────────────────────────────┤ X ├───────────────────────────────────────────────────────────────────────────────────────────────────────────────────────────────────────────────────────────────────────────────────────────────────────────────────────────────\n",
       "                                                                                                                                                                                                                   └───┘                                                                                                                                                                                                                               </pre>"
      ],
      "text/plain": [
       "                       ┌───┐                                                  ┌───┐                                                                                                                                                                                                                                                                                                                                          ┌───┐      ┌───┐          \n",
       "  c_in: ───────────────┤ X ├───────────────────■─────────────────────■────■───┤ T ├───■─────────■─────────────────────────────────────────────────────────────────────────────────────────────────────────────────────────────────────────────────────────────────────────────────────────────────────────────────────────────────────────────────────────────────────────────────────────────■─────────────────────■────■───┤ T ├───■──┤ X ├──────────\n",
       "        ┌───┐          └─┬─┘                   │             ┌───┐   │  ┌─┴─┐┌┴───┴┐┌─┴─┐┌───┐┌─┴─┐                                                                                                                                                                                                                                                                                           │             ┌───┐   │  ┌─┴─┐┌┴───┴┐┌─┴─┐└─┬─┘┌───┐┌───┐\n",
       "b->s_0: ┤ X ├────────────┼─────────■───────────┼─────────■───┤ T ├───┼──┤ X ├┤ Tdg ├┤ X ├┤ X ├┤ X ├───────────────────────────────────────────────────────────────────────────────────────────────────────────────────────────────────────────────────────────────────────────────────────────────────────────────────────────────────────────────────────────────────────────────■───────────┼─────────■───┤ T ├───┼──┤ X ├┤ Tdg ├┤ X ├──┼──┤ X ├┤ X ├\n",
       "        └─┬─┘┌───┐       │         │           │         │   └───┘   │  └───┘└─────┘└───┘└───┘└───┘                       ┌───┐      ┌───┐┌─────┐┌───┐┌───┐┌───┐                                                                                                                                                                     ┌───┐      ┌───┐┌─────┐┌───┐┌───┐     ┌───┐  │           │         │   └───┘   │  └───┘└─────┘└───┘  │  └───┘└─┬─┘\n",
       "b->s_1: ──┼──┤ X ├───────┼─────────┼───────────┼─────────┼───────────┼──────────────────────────■─────────────────────■───┤ T ├──────┤ X ├┤ Tdg ├┤ X ├┤ X ├┤ X ├───────────────────────────────────────────────────────────────────────────────────────────────────────────────────────────────────────────■─────────────────────■───┤ T ├──────┤ X ├┤ Tdg ├┤ X ├┤ X ├─────┤ X ├──┼───────────┼─────────┼───────────┼─────────────────────┼─────────┼──\n",
       "          │  └─┬─┘┌───┐  │         │           │         │           │                          │                     │   └───┘      └─┬─┘└─────┘└─┬─┘└───┘└─┬─┘                            ┌───┐      ┌───┐┌─────┐┌───┐┌───┐┌───┐                            ┌───┐      ┌───┐┌─────┐┌───┐┌───┐     ┌───┐  │                     │   └───┘      └─┬─┘└─────┘└─┬─┘└───┘     └─┬─┘  │           │         │           │                     │         │  \n",
       "b->s_2: ──┼────┼──┤ X ├──┼─────────┼───────────┼─────────┼───────────┼──────────────────────────┼─────────────────────┼────────────────┼───────────┼─────────┼────■─────────────────────■───┤ T ├──────┤ X ├┤ Tdg ├┤ X ├┤ X ├┤ X ├──■─────────────────────■───┤ T ├──────┤ X ├┤ Tdg ├┤ X ├┤ X ├─────┤ X ├──┼─────────────────────┼────────────────┼───────────┼──────────────┼────┼───────────┼─────────┼───────────┼─────────────────────┼─────────┼──\n",
       "          │    │  └─┬─┘  │  ┌───┐┌─┴─┐┌─────┐┌─┴─┐┌───┐┌─┴─┐┌─────┐┌─┴─┐┌───┐ ┌───┐ ┌───┐       │                     │                │   ┌───┐   │         │    │                     │   └───┘      └─┬─┘└─────┘└─┬─┘└───┘└─┬─┘  │                     │   └───┘      └─┬─┘└─────┘└─┬─┘└───┘     └─┬─┘  │                     │                │   ┌───┐   │  ┌───┐┌───┐  │  ┌─┴─┐┌─────┐┌─┴─┐┌───┐┌─┴─┐┌─────┐┌─┴─┐┌───┐ ┌───┐        │         │  \n",
       "   a_0: ──■────┼────┼────■──┤ H ├┤ X ├┤ Tdg ├┤ X ├┤ T ├┤ X ├┤ Tdg ├┤ X ├┤ T ├─┤ H ├─┤ X ├───────┼───────────■─────────┼───────────■────■───┤ T ├───■─────────■────┼─────────────────────┼────────────────┼───────────┼─────────┼────┼─────────────────────┼────────────────┼───────────┼──────────────┼────┼───────────■─────────┼───────────■────■───┤ T ├───■──┤ X ├┤ H ├──┼──┤ X ├┤ Tdg ├┤ X ├┤ T ├┤ X ├┤ Tdg ├┤ X ├┤ T ├─┤ H ├────────■─────────■──\n",
       "               │    │       └───┘└───┘└─────┘└───┘└───┘└───┘└─────┘└───┘└───┘ └───┘ └─┬─┘┌───┐┌─┴─┐┌─────┐┌─┴─┐┌───┐┌─┴─┐┌─────┐┌─┴─┐┌───┐ ├───┤ ┌───┐            │                     │                │   ┌───┐   │         │    │                     │                │   ┌───┐   │  ┌───┐┌───┐  │  ┌─┴─┐┌─────┐┌─┴─┐┌───┐┌─┴─┐┌─────┐┌─┴─┐┌───┐ ├───┤      └─┬─┘└───┘  │  └───┘└─────┘└───┘└───┘└───┘└─────┘└───┘└───┘ └───┘                     \n",
       "   a_1: ───────■────┼─────────────────────────────────────────────────────────────────■──┤ H ├┤ X ├┤ Tdg ├┤ X ├┤ T ├┤ X ├┤ Tdg ├┤ X ├┤ T ├─┤ H ├─┤ X ├────────────┼───────────■─────────┼───────────■────■───┤ T ├───■─────────■────┼───────────■─────────┼───────────■────■───┤ T ├───■──┤ X ├┤ H ├──┼──┤ X ├┤ Tdg ├┤ X ├┤ T ├┤ X ├┤ Tdg ├┤ X ├┤ T ├─┤ H ├────────■─────────■─────────────────────────────────────────────────────────────────────────\n",
       "                    │                                                                    └───┘└───┘└─────┘└───┘└───┘└───┘└─────┘└───┘└───┘ └───┘ └─┬─┘┌───┐     ┌─┴─┐┌─────┐┌─┴─┐┌───┐┌─┴─┐┌─────┐┌─┴─┐┌───┐ ├───┤      ┌───┐     ┌─┴─┐┌─────┐┌─┴─┐┌───┐┌─┴─┐┌─────┐┌─┴─┐┌───┐ ├───┤      └─┬─┘└───┘  │  └───┘└─────┘└───┘└───┘└───┘└─────┘└───┘└───┘ └───┘                                                                                            \n",
       "   a_2: ────────────■──────────────────────────────────────────────────────────────────────────────────────────────────────────────────────────────■──┤ H ├─────┤ X ├┤ Tdg ├┤ X ├┤ T ├┤ X ├┤ Tdg ├┤ X ├┤ T ├─┤ H ├───■──┤ H ├─────┤ X ├┤ Tdg ├┤ X ├┤ T ├┤ X ├┤ Tdg ├┤ X ├┤ T ├─┤ H ├────────■─────────■────────────────────────────────────────────────────────────────────────────────────────────────────────────────────────────────────────────────\n",
       "                                                                                                                                                      └───┘     └───┘└─────┘└───┘└───┘└───┘└─────┘└───┘└───┘ └───┘ ┌─┴─┐└───┘     └───┘└─────┘└───┘└───┘└───┘└─────┘└───┘└───┘ └───┘                                                                                                                                                                   \n",
       " c_out: ───────────────────────────────────────────────────────────────────────────────────────────────────────────────────────────────────────────────────────────────────────────────────────────────────────────┤ X ├───────────────────────────────────────────────────────────────────────────────────────────────────────────────────────────────────────────────────────────────────────────────────────────────────────────────────────────────\n",
       "                                                                                                                                                                                                                   └───┘                                                                                                                                                                                                                               "
      ]
     },
     "execution_count": 6,
     "metadata": {},
     "output_type": "execute_result"
    }
   ],
   "source": [
    "cuccaro8 = generate_adder_circuit(8)\n",
    "\n",
    "print('The fully decomposed Cuccaro adder (Qiskit default decomposition):')\n",
    "cucc_decomp = qiskit.transpile(cuccaro8, basis_gates=['x', 'h', 't', 'tdg', 'cx'])\n",
    "cucc_decomp.draw(fold=-1)"
   ]
  },
  {
   "cell_type": "markdown",
   "id": "extra-visit",
   "metadata": {},
   "source": [
    "## 1.1. Gate Commutation\n",
    "\n",
    "Take a look at the decomposed Cuccaro adder above.  In this circuit of CNOT and single-qubit gates, there are several places where we can rearrange and cancel gates.  For this question, take this small piece of the circuit shown below.\n",
    "\n",
    "Commute (i.e. move) the single-qubit gates as far right as possible in the circuit without changing the functionality."
   ]
  },
  {
   "cell_type": "code",
   "execution_count": 7,
   "id": "manufactured-participation",
   "metadata": {},
   "outputs": [
    {
     "name": "stdout",
     "output_type": "stream",
     "text": [
      "A small piece of the decomposed Cuccaro adder:\n"
     ]
    },
    {
     "data": {
      "text/html": [
       "<pre style=\"word-wrap: normal;white-space: pre;background: #fff0;line-height: 1.1;font-family: &quot;Courier New&quot;,Courier,monospace\">                ┌───┐                ┌───┐\n",
       "q_0: ───────■───┤ T ├───■─────────■──┤ T ├\n",
       "     ┌───┐┌─┴─┐┌┴───┴┐┌─┴─┐┌───┐┌─┴─┐└───┘\n",
       "q_1: ┤ T ├┤ X ├┤ Tdg ├┤ X ├┤ X ├┤ X ├─────\n",
       "     └───┘└───┘└─────┘└───┘└───┘└───┘     </pre>"
      ],
      "text/plain": [
       "                ┌───┐                ┌───┐\n",
       "q_0: ───────■───┤ T ├───■─────────■──┤ T ├\n",
       "     ┌───┐┌─┴─┐┌┴───┴┐┌─┴─┐┌───┐┌─┴─┐└───┘\n",
       "q_1: ┤ T ├┤ X ├┤ Tdg ├┤ X ├┤ X ├┤ X ├─────\n",
       "     └───┘└───┘└─────┘└───┘└───┘└───┘     "
      ]
     },
     "execution_count": 7,
     "metadata": {},
     "output_type": "execute_result"
    }
   ],
   "source": [
    "print('A small piece of the decomposed Cuccaro adder:')\n",
    "subcirc = QuantumCircuit.from_qasm_str('OPENQASM 2.0;\\ninclude \"qelib1.inc\";\\nqreg q[2];\\nt q[1];\\ncx q[0],q[1];\\nt q[0];\\ntdg q[1];\\ncx q[0],q[1];\\nx q[1];\\ncx q[0],q[1];\\nt q[0];\\n')\n",
    "subcirc.draw(fold=-1)"
   ]
  },
  {
   "cell_type": "code",
   "execution_count": 8,
   "id": "heard-server",
   "metadata": {
    "deletable": false,
    "nbgrader": {
     "cell_type": "code",
     "checksum": "8198579559dbad5cb3f67cca8a0a77d7",
     "grade": false,
     "grade_id": "1-1",
     "locked": false,
     "schema_version": 3,
     "solution": true,
     "task": false
    }
   },
   "outputs": [
    {
     "name": "stdout",
     "output_type": "stream",
     "text": [
      "Your solution:\n",
      "'OPENQASM 2.0;\\ninclude \"qelib1.inc\";\\nqreg q[2];\\ncx q[0],q[1];\\nx q[1];\\ncx q[0],q[1];\\ncx q[0],q[1];\\nt q[0];\\nt q[1];\\nt q[0];\\ntdg q[1];\\n'\n"
     ]
    },
    {
     "data": {
      "text/html": [
       "<pre style=\"word-wrap: normal;white-space: pre;background: #fff0;line-height: 1.1;font-family: &quot;Courier New&quot;,Courier,monospace\">                         ┌───┐ ┌───┐ \n",
       "q_0: ──■─────────■────■──┤ T ├─┤ T ├─\n",
       "     ┌─┴─┐┌───┐┌─┴─┐┌─┴─┐├───┤┌┴───┴┐\n",
       "q_1: ┤ X ├┤ X ├┤ X ├┤ X ├┤ T ├┤ Tdg ├\n",
       "     └───┘└───┘└───┘└───┘└───┘└─────┘</pre>"
      ],
      "text/plain": [
       "                         ┌───┐ ┌───┐ \n",
       "q_0: ──■─────────■────■──┤ T ├─┤ T ├─\n",
       "     ┌─┴─┐┌───┐┌─┴─┐┌─┴─┐├───┤┌┴───┴┐\n",
       "q_1: ┤ X ├┤ X ├┤ X ├┤ X ├┤ T ├┤ Tdg ├\n",
       "     └───┘└───┘└───┘└───┘└───┘└─────┘"
      ]
     },
     "execution_count": 8,
     "metadata": {},
     "output_type": "execute_result"
    }
   ],
   "source": [
    "optimized_1 = QuantumCircuit(2)\n",
    "\n",
    "# Rearrange these gates for your solution\n",
    "# Do not add or remove gates\n",
    "# You should get a circuit with two CNOTs next to each other\n",
    "# and two T gates next to each other\n",
    "\n",
    "optimized_1.cx(0, 1)\n",
    "optimized_1.x(1)\n",
    "optimized_1.cx(0, 1)\n",
    "optimized_1.cx(0, 1)\n",
    "optimized_1.t(0)\n",
    "optimized_1.t(1)\n",
    "optimized_1.t(0)\n",
    "optimized_1.tdg(1)\n",
    "# YOUR CODE HERE\n",
    "\n",
    "print('Your solution:')\n",
    "print(repr(optimized_1.qasm()))\n",
    "optimized_1.draw(fold=-1)"
   ]
  },
  {
   "cell_type": "code",
   "execution_count": 9,
   "id": "operating-approach",
   "metadata": {
    "deletable": false,
    "editable": false,
    "nbgrader": {
     "cell_type": "code",
     "checksum": "6fd11b59735dd1d79be59255d8fa22c3",
     "grade": true,
     "grade_id": "1-1-test",
     "locked": true,
     "points": 20,
     "schema_version": 3,
     "solution": false,
     "task": false
    }
   },
   "outputs": [
    {
     "name": "stdout",
     "output_type": "stream",
     "text": [
      "PASS\n"
     ]
    }
   ],
   "source": [
    "# Do not delete this cell\n",
    "# The autograder will test the value stored in `optimized_1`.\n",
    "from collections import Counter\n",
    "assert len(optimized_1) == len(subcirc), (\n",
    "    'Do not add or remove gates, only rearrange them')\n",
    "assert (Counter((type(g), tuple(q)) for g, q, c in optimized_1)\n",
    "        == Counter((type(g), tuple(q)) for g, q, c in subcirc)), (\n",
    "    'Do not add or remove gates, only rearrange them')\n",
    "assert '\\ncx q[0],q[1];\\ncx q[0],q[1];\\n' in optimized_1.qasm(), (\n",
    "    'The solution will contain two CNOT gates back-to-back '\n",
    "    '(as a next step, you would normally remove them)')\n",
    "assert len(optimized_1.qasm().split('\\ncx')[-1].split('\\nt q[0];')) == 3, (\n",
    "    'The solution will contain two T gates back-to-back.  '\n",
    "    'Remember to move them as far right in the circuit as possible')\n",
    "# Hidden tests\n",
    "print('PASS')"
   ]
  },
  {
   "cell_type": "markdown",
   "id": "mounted-violation",
   "metadata": {},
   "source": [
    "Now than you have commuted as many single-qubit gates as possible to the right, an optimizer can look for pairs of CNOT gates and remove them from the circuit.  An optimizer can also merge sequences of single qubit gates.  $TT=S$ so in this circuit an optimizer can replace the pair of T gates with an S gate.\n",
    "\n",
    "## 1.2. KAK\n",
    "\n",
    "In this question, you will use Qiskit to find the shortest sequence of gates needed to execute this subcircuit on a real device.  The code below uses Qiskit's implementation of the KAK matrix decomposition to optimally compile to one CNOT gate.  (Question continued below.)"
   ]
  },
  {
   "cell_type": "code",
   "execution_count": 10,
   "id": "searching-distribution",
   "metadata": {},
   "outputs": [
    {
     "name": "stdout",
     "output_type": "stream",
     "text": [
      "A small piece of the decomposed Cuccaro adder:\n"
     ]
    },
    {
     "data": {
      "text/html": [
       "<pre style=\"word-wrap: normal;white-space: pre;background: #fff0;line-height: 1.1;font-family: &quot;Courier New&quot;,Courier,monospace\">                ┌───┐                ┌───┐\n",
       "q_0: ───────■───┤ T ├───■─────────■──┤ T ├\n",
       "     ┌───┐┌─┴─┐┌┴───┴┐┌─┴─┐┌───┐┌─┴─┐└───┘\n",
       "q_1: ┤ T ├┤ X ├┤ Tdg ├┤ X ├┤ X ├┤ X ├─────\n",
       "     └───┘└───┘└─────┘└───┘└───┘└───┘     </pre>"
      ],
      "text/plain": [
       "                ┌───┐                ┌───┐\n",
       "q_0: ───────■───┤ T ├───■─────────■──┤ T ├\n",
       "     ┌───┐┌─┴─┐┌┴───┴┐┌─┴─┐┌───┐┌─┴─┐└───┘\n",
       "q_1: ┤ T ├┤ X ├┤ Tdg ├┤ X ├┤ X ├┤ X ├─────\n",
       "     └───┘└───┘└─────┘└───┘└───┘└───┘     "
      ]
     },
     "metadata": {},
     "output_type": "display_data"
    },
    {
     "name": "stdout",
     "output_type": "stream",
     "text": [
      "The unitary matrix for this subcircuit:\n",
      "[[ 0.   +0.j     0.   +0.j     1.   +0.j     0.   +0.j   ]\n",
      " [ 0.   +0.j     0.707+0.707j  0.   +0.j     0.   +0.j   ]\n",
      " [ 1.   +0.j     0.   +0.j     0.   +0.j     0.   +0.j   ]\n",
      " [ 0.   +0.j     0.   +0.j     0.   +0.j    -0.707+0.707j]]\n"
     ]
    }
   ],
   "source": [
    "print('A small piece of the decomposed Cuccaro adder:')\n",
    "subcirc = QuantumCircuit.from_qasm_str('OPENQASM 2.0;\\ninclude \"qelib1.inc\";\\nqreg q[2];\\nt q[1];\\ncx q[0],q[1];\\nt q[0];\\ntdg q[1];\\ncx q[0],q[1];\\nx q[1];\\ncx q[0],q[1];\\nt q[0];\\n')\n",
    "display(subcirc.draw(fold=-1))\n",
    "\n",
    "# Calculate the unitary matrix for the subcircuit\n",
    "u_subcirc = qiskit.quantum_info.Operator(subcirc).data\n",
    "print('The unitary matrix for this subcircuit:')\n",
    "print(u_subcirc.round(3))  # Round to simplify print output"
   ]
  },
  {
   "cell_type": "code",
   "execution_count": 11,
   "id": "infectious-executive",
   "metadata": {},
   "outputs": [
    {
     "data": {
      "text/plain": [
       "TwoQubitWeylControlledEquiv.from_bytes(\n",
       "    # TwoQubitWeylControlledEquiv(\n",
       "    # \tglobal phase: 3π/2\n",
       "    # \t     ┌──────────┐ ┌────────┐┌────────────┐┌──────────┐ ┌────────┐\n",
       "    # \tq_0: ┤ Ry(-π/2) ├─┤ Rx(-π) ├┤0           ├┤ Ry(-π/2) ├─┤ Rx(-π) ├───────────\n",
       "    # \t     ├──────────┤┌┴────────┤│  Rxx(-π/2) │├─────────┬┘┌┴────────┤┌─────────┐\n",
       "    # \tq_1: ┤ Rx(-π/2) ├┤ Ry(π/4) ├┤1           ├┤ Rx(π/2) ├─┤ Ry(π/4) ├┤ Rx(π/2) ├\n",
       "    # \t     └──────────┘└─────────┘└────────────┘└─────────┘ └─────────┘└─────────┘\n",
       "    # )\n",
       "    b'k05VTVBZAQB2AHsnZGVzY3InOiAnPGMxNicsICdmb3J0cmFuX29yZGVyJzogRmFsc2UsICdzaGFw'\n",
       "    b'ZSc6ICg0LCA0KSwgfSAgICAgICAgICAgICAgICAgICAgICAgICAgICAgICAgICAgICAgICAgICAg'\n",
       "    b'ICAgICAgICAgICAgIAoAAAAAAAAAAAAAAAAAAAAAAAAAAAAAAAAAAAAAAAAAAP7//////+8/AAAA'\n",
       "    b'AAAAAAAAAAAAAAAAAAAAAAAAAAAAAAAAAAAAAAAAAAAAAAAAAMs7f2aeoOY/yzt/Zp6g5j8AAAAA'\n",
       "    b'AAAAAAAAAAAAAAAAAAAAAAAAAAAAAAAAAAAAAAAAAAAAAPA/AAAAAAAAAAAAAAAAAAAAAAAAAAAA'\n",
       "    b'AAAAAAAAAAAAAAAAAAAAAAAAAAAAAAAAAAAAAAAAAAAAAAAAAAAAAAAAAAAAAAAAAAAAAAAAAAAA'\n",
       "    b'AAAAAAAAAAAAAAAAAAAAAAAAAAAAAAAAAADLO39mnqDmv8s7f2aeoOY/',\n",
       "    requested_fidelity=None,\n",
       "    calculated_fidelity=1.0,\n",
       "    actual_fidelity=1.0000000000000004,\n",
       "    abc=(0.7853981633974483, 0, 0))"
      ]
     },
     "execution_count": 11,
     "metadata": {},
     "output_type": "execute_result"
    }
   ],
   "source": [
    "# An object that can compute the KAK unitary matrix decomposition\n",
    "# using the CNOT gate\n",
    "# Source code: https://github.com/Qiskit/qiskit-terra/blob/6354f3f4fa7a294a0f8b0b54d6b5bc5cdae49eca/qiskit/quantum_info/synthesis/two_qubit_decompose.py#L635\n",
    "kak = qiskit.quantum_info.synthesis.TwoQubitBasisDecomposer(\n",
    "    qiskit.circuit.library.standard_gates.CXGate(), euler_basis='ZXZ')\n",
    "\n",
    "# An object that represents the unitary in a cannonical form as three real numbers\n",
    "# (ignoring single-qubit gates)\n",
    "# These Weyl coordinates are (0.7853981633974483, 0.0, 0.0)\n",
    "# The other matrices are extra single-qubit gates\n",
    "weyl_coords = (qiskit.quantum_info.synthesis.two_qubit_decompose\n",
    "               .TwoQubitWeylDecomposition(u_subcirc))\n",
    "weyl_coords"
   ]
  },
  {
   "cell_type": "code",
   "execution_count": 12,
   "id": "vietnamese-consequence",
   "metadata": {},
   "outputs": [
    {
     "name": "stdout",
     "output_type": "stream",
     "text": [
      "Number of CNOT gates needed for this KAK decomposition:\n"
     ]
    },
    {
     "data": {
      "text/plain": [
       "1"
      ]
     },
     "execution_count": 12,
     "metadata": {},
     "output_type": "execute_result"
    }
   ],
   "source": [
    "print('Number of CNOT gates needed for this KAK decomposition:')\n",
    "cnots_required = kak.num_basis_gates(u_subcirc)\n",
    "cnots_required"
   ]
  },
  {
   "cell_type": "code",
   "execution_count": 13,
   "id": "current-intersection",
   "metadata": {},
   "outputs": [
    {
     "name": "stdout",
     "output_type": "stream",
     "text": [
      "Single qubit gates needed around the one CNOT gate:\n"
     ]
    },
    {
     "data": {
      "text/plain": [
       "(array([[ 6.12323400e-17-4.26642159e-17j, -2.00955151e-34+1.00000000e+00j],\n",
       "        [-2.00955151e-34+1.00000000e+00j,  6.12323400e-17-4.26642159e-17j]]),\n",
       " array([[ 0.13448258-0.05570451j, -0.37860747+0.91403929j],\n",
       "        [ 0.37860747+0.91403929j,  0.13448258+0.05570451j]]),\n",
       " array([[ 3.44563643e-16-1.06260199e-16j,  7.07106781e-01+7.07106781e-01j],\n",
       "        [-7.07106781e-01+7.07106781e-01j, -2.05785765e-16-1.34015774e-16j]]),\n",
       " array([[ 0.13448258-0.05570451j, -0.37860747-0.91403929j],\n",
       "        [ 0.37860747-0.91403929j,  0.13448258+0.05570451j]]))"
      ]
     },
     "execution_count": 13,
     "metadata": {},
     "output_type": "execute_result"
    }
   ],
   "source": [
    "# Only one CNOT is required so use `decomp1` to find the four\n",
    "# single-qubit unitary matricies needed\n",
    "u0l, u1l, u0r, u1r = kak.decomp1(weyl_coords)\n",
    "print('Single qubit gates needed around the one CNOT gate:')\n",
    "# Left on qubit 0, left on 1, right on 0, right on 1\n",
    "u0l, u1l, u0r, u1r"
   ]
  },
  {
   "cell_type": "code",
   "execution_count": 14,
   "id": "governing-massage",
   "metadata": {},
   "outputs": [
    {
     "name": "stdout",
     "output_type": "stream",
     "text": [
      "Optimal circuit if CNOT gates\n"
     ]
    },
    {
     "data": {
      "text/html": [
       "<pre style=\"word-wrap: normal;white-space: pre;background: #fff0;line-height: 1.1;font-family: &quot;Courier New&quot;,Courier,monospace\">     ┌─────────┐     ┌─────────┐\n",
       "q_0: ┤ Unitary ├──■──┤ Unitary ├\n",
       "     ├─────────┤┌─┴─┐├─────────┤\n",
       "q_1: ┤ Unitary ├┤ X ├┤ Unitary ├\n",
       "     └─────────┘└───┘└─────────┘</pre>"
      ],
      "text/plain": [
       "     ┌─────────┐     ┌─────────┐\n",
       "q_0: ┤ Unitary ├──■──┤ Unitary ├\n",
       "     ├─────────┤┌─┴─┐├─────────┤\n",
       "q_1: ┤ Unitary ├┤ X ├┤ Unitary ├\n",
       "     └─────────┘└───┘└─────────┘"
      ]
     },
     "metadata": {},
     "output_type": "display_data"
    },
    {
     "name": "stdout",
     "output_type": "stream",
     "text": [
      "Circuits are equivalent!\n"
     ]
    }
   ],
   "source": [
    "# Make a circuit with these computed single-qubit unitaries\n",
    "print('Optimal circuit if CNOT gates')\n",
    "optimized_cnot = QuantumCircuit(2)\n",
    "optimized_cnot.unitary(u0l, 0)\n",
    "optimized_cnot.unitary(u1l, 1)\n",
    "optimized_cnot.cx(0, 1)\n",
    "optimized_cnot.unitary(u0r, 0)\n",
    "optimized_cnot.unitary(u1r, 1)\n",
    "display(optimized_cnot.draw(fold=-1))\n",
    "\n",
    "# Check that it is correct\n",
    "u_optimized_cnot = qiskit.quantum_info.Operator(optimized_cnot).data\n",
    "assert matrix_equal(u_optimized_cnot, u_subcirc,\n",
    "    ignore_phase=True, atol=1e-8, rtol=1e-8), (\n",
    "    'Circuits are not equivalent')\n",
    "print('Circuits are equivalent!')"
   ]
  },
  {
   "cell_type": "code",
   "execution_count": 15,
   "id": "dense-birmingham",
   "metadata": {},
   "outputs": [
    {
     "data": {
      "text/html": [
       "<pre style=\"word-wrap: normal;white-space: pre;background: #fff0;line-height: 1.1;font-family: &quot;Courier New&quot;,Courier,monospace\">global phase: 5π/4\n",
       "        ┌───────┐                      ┌──────────┐  ┌───────┐ \n",
       "q40_0: ─┤ Rx(π) ├──────────────────■───┤ Rz(-π/2) ├──┤ Rx(π) ├─\n",
       "       ┌┴───────┴┐┌─────────────┐┌─┴─┐┌┴──────────┴┐┌┴───────┴┐\n",
       "q40_1: ┤ Rz(π/4) ├┤ Rx(-2.8494) ├┤ X ├┤ Rx(2.8494) ├┤ Rz(π/4) ├\n",
       "       └─────────┘└─────────────┘└───┘└────────────┘└─────────┘</pre>"
      ],
      "text/plain": [
       "global phase: 5π/4\n",
       "        ┌───────┐                      ┌──────────┐  ┌───────┐ \n",
       "q40_0: ─┤ Rx(π) ├──────────────────■───┤ Rz(-π/2) ├──┤ Rx(π) ├─\n",
       "       ┌┴───────┴┐┌─────────────┐┌─┴─┐┌┴──────────┴┐┌┴───────┴┐\n",
       "q40_1: ┤ Rz(π/4) ├┤ Rx(-2.8494) ├┤ X ├┤ Rx(2.8494) ├┤ Rz(π/4) ├\n",
       "       └─────────┘└─────────────┘└───┘└────────────┘└─────────┘"
      ]
     },
     "execution_count": 15,
     "metadata": {},
     "output_type": "execute_result"
    }
   ],
   "source": [
    "# Instead of all the above steps, ask Qiskit to do it automatically\n",
    "optimized_cnot_auto = kak(u_subcirc)\n",
    "optimized_cnot_auto.draw(fold=-1)"
   ]
  },
  {
   "cell_type": "markdown",
   "id": "australian-fitting",
   "metadata": {},
   "source": [
    "#### (1.2 continued)\n",
    "\n",
    "For this problem, use KAK to compile `subcirc` for a device that only supports the **iSWAP** and single-qubit gates."
   ]
  },
  {
   "cell_type": "code",
   "execution_count": 16,
   "id": "guilty-possession",
   "metadata": {
    "deletable": false,
    "nbgrader": {
     "cell_type": "code",
     "checksum": "56a77d4d8051186060562e8488aecbb0",
     "grade": false,
     "grade_id": "1-2",
     "locked": false,
     "schema_version": 3,
     "solution": true,
     "task": false
    }
   },
   "outputs": [
    {
     "ename": "TypeError",
     "evalue": "__init__() missing 1 required positional argument: 'gate'",
     "output_type": "error",
     "traceback": [
      "\u001b[1;31m---------------------------------------------------------------------------\u001b[0m",
      "\u001b[1;31mTypeError\u001b[0m                                 Traceback (most recent call last)",
      "Cell \u001b[1;32mIn[16], line 2\u001b[0m\n\u001b[0;32m      1\u001b[0m \u001b[38;5;66;03m# Use Qiskit to compile `subcirc` using the fewest possible iSWAP gates\u001b[39;00m\n\u001b[1;32m----> 2\u001b[0m kak_iswap \u001b[38;5;241m=\u001b[39m \u001b[43mqiskit\u001b[49m\u001b[38;5;241;43m.\u001b[39;49m\u001b[43mquantum_info\u001b[49m\u001b[38;5;241;43m.\u001b[39;49m\u001b[43msynthesis\u001b[49m\u001b[38;5;241;43m.\u001b[39;49m\u001b[43mTwoQubitBasisDecomposer\u001b[49m\u001b[43m(\u001b[49m\n\u001b[0;32m      3\u001b[0m \u001b[43m    \u001b[49m\u001b[38;5;66;43;03m# YOUR CODE HERE\u001b[39;49;00m\n\u001b[0;32m      4\u001b[0m \u001b[43m)\u001b[49m\n\u001b[0;32m      5\u001b[0m optimized_iswap \u001b[38;5;241m=\u001b[39m \u001b[38;5;241m.\u001b[39m\u001b[38;5;241m.\u001b[39m\u001b[38;5;241m.\u001b[39m\n\u001b[0;32m      6\u001b[0m \u001b[38;5;66;03m# YOUR CODE HERE\u001b[39;00m\n",
      "\u001b[1;31mTypeError\u001b[0m: __init__() missing 1 required positional argument: 'gate'"
     ]
    }
   ],
   "source": [
    "# Use Qiskit to compile `subcirc` using the fewest possible iSWAP gates\n",
    "kak_iswap = qiskit.quantum_info.synthesis.TwoQubitBasisDecomposer(\n",
    "    # YOUR CODE HERE\n",
    ")\n",
    "optimized_iswap = ...\n",
    "# YOUR CODE HERE\n",
    "\n",
    "print('Your optimized circuit for an iSWAP-capable device:')\n",
    "optimized_iswap.draw(fold=-1)"
   ]
  },
  {
   "cell_type": "code",
   "execution_count": null,
   "id": "jewish-milan",
   "metadata": {
    "deletable": false,
    "editable": false,
    "nbgrader": {
     "cell_type": "code",
     "checksum": "6cd78de71bc045ecbbeb5e59040f40f9",
     "grade": true,
     "grade_id": "1-2-test",
     "locked": true,
     "points": 10,
     "schema_version": 3,
     "solution": false,
     "task": false
    }
   },
   "outputs": [],
   "source": [
    "# Do not delete this cell\n",
    "# The autograder will test the value stored in `optimized_iswap`.\n",
    "from collections import Counter\n",
    "assert len(optimized_iswap.qasm().split('\\ncx')) == 1, (\n",
    "    'The solution should not contain any CNOT gates, only iSWAP (and single-qubit)')\n",
    "assert len(optimized_iswap.qasm().split('\\niswap')) <= 3, (\n",
    "    'The optimal solution will contain two iSWAP gates')\n",
    "u_optimized_iswap = qiskit.quantum_info.Operator(optimized_iswap).data\n",
    "assert matrix_equal(u_optimized_iswap, u_subcirc,\n",
    "    ignore_phase=True, atol=1e-8, rtol=1e-8), (\n",
    "    'The compiled and original circuits are not equivalent')\n",
    "# Hidden tests\n",
    "print('PASS')"
   ]
  },
  {
   "cell_type": "markdown",
   "id": "b108e523",
   "metadata": {},
   "source": [
    "# 2. Global Optimization with the ZX Calculus\n",
    "\n",
    "Recently, many powerful tools for circuit optimization have been developed that use a tool called the ZX Calculus.  After converting a quantum circuit into a ZX diagram it is easier to find simplifications, using the rules of the ZX calculus, that lead to smaller circuits.  You can [read more about ZX calculus here](https://zxcalculus.com/intro.html).\n",
    "\n",
    "Follow the steps in the code below."
   ]
  },
  {
   "cell_type": "code",
   "execution_count": null,
   "id": "015ac2ee",
   "metadata": {},
   "outputs": [],
   "source": [
    "# Install pyzx on your computer\n",
    "!pip install pyzx==0.6.4"
   ]
  },
  {
   "cell_type": "code",
   "execution_count": null,
   "id": "f72a8b53",
   "metadata": {},
   "outputs": [],
   "source": [
    "import pyzx as zx\n",
    "\n",
    "# The cuccaro adder circuit\n",
    "cuccaro = generate_adder_circuit(20)\n",
    "cucc_decomp = qiskit.transpile(cuccaro, basis_gates=['x', 'h', 't', 'tdg', 'cx'])\n",
    "\n",
    "# Convert the circuit into a ZX diagram\n",
    "g = zx.Circuit.from_qasm(cuccaro.qasm())\n",
    "print('The ZX diagram of the decomposed cuccaro adder:')\n",
    "zx.draw(g)"
   ]
  },
  {
   "cell_type": "code",
   "execution_count": null,
   "id": "e93f5795",
   "metadata": {},
   "outputs": [],
   "source": [
    "# Simplify the diagram by replacing yellow squares (Hadamards)\n",
    "g = g.to_basic_gates().to_graph()\n",
    "zx.draw(g)"
   ]
  },
  {
   "cell_type": "markdown",
   "id": "6e9b4a95",
   "metadata": {},
   "source": [
    "## 2.1 Optimizer Routines\n",
    "\n",
    "Now that we have a ZX diagram of the Cuccaro adder circuit, optimize the ZX diagram using one of the optimization routines listed here: [https://pyzx.readthedocs.io/en/latest/api.html](https://pyzx.readthedocs.io/en/latest/api.html#list-of-simplifications).  Find the one that optimizes this circuit the best.  I.e. the optimizer that results in a circuit with the fewest two-qubit gates."
   ]
  },
  {
   "cell_type": "code",
   "execution_count": null,
   "id": "096c1b9f",
   "metadata": {
    "deletable": false,
    "nbgrader": {
     "cell_type": "code",
     "checksum": "931789061e0cd86fe0419220fb9e5d0d",
     "grade": false,
     "grade_id": "2-1",
     "locked": false,
     "schema_version": 3,
     "solution": true,
     "task": false
    }
   },
   "outputs": [],
   "source": [
    "# Reduce the circuit into a the form of a graph\n",
    "# This will no longer look like a quantum circuit\n",
    "# Additional work is needed to recover a valid quantum circuit\n",
    "g_opt = zx.Graph.from_json(g.to_json())  # Convert to zx.Graph before optimizing\n",
    "\n",
    "# YOUR CODE HERE\n",
    "__________(g_opt)  # Try different optimizers here\n",
    "\n",
    "zx.draw(g_opt)"
   ]
  },
  {
   "cell_type": "code",
   "execution_count": null,
   "id": "e524b10e",
   "metadata": {},
   "outputs": [],
   "source": [
    "# Convert the graph back into a quantum circuit\n",
    "# This may not find the smallest possible circuit\n",
    "c_opt = zx.extract_circuit(g_opt.copy(), quiet=True, optimize_cnots=3)\n",
    "zx.draw(c_opt)"
   ]
  },
  {
   "cell_type": "code",
   "execution_count": null,
   "id": "e4246256",
   "metadata": {
    "deletable": false,
    "editable": false,
    "nbgrader": {
     "cell_type": "code",
     "checksum": "a2a4ec934c4f3b71673e3d117ff43951",
     "grade": true,
     "grade_id": "2-1-test",
     "locked": true,
     "points": 10,
     "schema_version": 3,
     "solution": false,
     "task": false
    }
   },
   "outputs": [],
   "source": [
    "# Do not delete this cell\n",
    "# The autograder will test the value stored in `c_opt`.\n",
    "_optimized = QuantumCircuit.from_qasm_str(c_opt.to_qasm())\n",
    "assert len(cucc_decomp.qubits) == 20, 'The wrong input circuit was optimized.'\n",
    "assert len(_optimized.qubits) == 20, 'Wrong number of qubits in the output circuit'\n",
    "# Hidden tests"
   ]
  },
  {
   "cell_type": "code",
   "execution_count": null,
   "id": "58841f91",
   "metadata": {},
   "outputs": [],
   "source": [
    "# Convert this circuit back into a Qiskit circuit\n",
    "optimized = QuantumCircuit.from_qasm_str(c_opt.to_qasm())\n",
    "print(f'Optimized circuit:')\n",
    "optimized.draw(fold=-1)"
   ]
  },
  {
   "cell_type": "code",
   "execution_count": null,
   "id": "227214fb",
   "metadata": {},
   "outputs": [],
   "source": [
    "print(f'Original circuit (for comparison):')\n",
    "cucc_decomp.draw(fold=-1)"
   ]
  },
  {
   "cell_type": "markdown",
   "id": "1fdfefc0",
   "metadata": {},
   "source": [
    "## 2.2 Output Circuit\n",
    "\n",
    "Inspect the above \"optimized\" quantum circuit.  Does it look similar in structure to the original circuit with some gates removed or changed or is the structure completely different?"
   ]
  },
  {
   "cell_type": "code",
   "execution_count": 19,
   "id": "f25614e9",
   "metadata": {
    "deletable": false,
    "nbgrader": {
     "cell_type": "code",
     "checksum": "8003abac3edc72fac5eb629519c9f914",
     "grade": false,
     "grade_id": "2-2",
     "locked": false,
     "schema_version": 3,
     "solution": true,
     "task": false
    }
   },
   "outputs": [],
   "source": [
    "answer = 'different'"
   ]
  },
  {
   "cell_type": "code",
   "execution_count": 20,
   "id": "f6b2c4f0",
   "metadata": {
    "deletable": false,
    "editable": false,
    "nbgrader": {
     "cell_type": "code",
     "checksum": "61fb1cdcbe217dad82179077a8c0b1f0",
     "grade": true,
     "grade_id": "2-2-test",
     "locked": true,
     "points": 5,
     "schema_version": 3,
     "solution": false,
     "task": false
    }
   },
   "outputs": [],
   "source": [
    "# Do not delete this cell\n",
    "# The autograder will test the value stored in `c_opt`.\n",
    "assert answer in ('similar', 'different'), 'Invalid answer'\n",
    "# Hidden tests"
   ]
  },
  {
   "cell_type": "code",
   "execution_count": null,
   "id": "da7b7c45-87aa-4e6f-9885-8521111c5a13",
   "metadata": {},
   "outputs": [],
   "source": []
  }
 ],
 "metadata": {
  "@webio": {
   "lastCommId": null,
   "lastKernelId": null
  },
  "kernelspec": {
   "display_name": "Python 3 (ipykernel)",
   "language": "python",
   "name": "python3"
  },
  "language_info": {
   "codemirror_mode": {
    "name": "ipython",
    "version": 3
   },
   "file_extension": ".py",
   "mimetype": "text/x-python",
   "name": "python",
   "nbconvert_exporter": "python",
   "pygments_lexer": "ipython3",
   "version": "3.8.19"
  }
 },
 "nbformat": 4,
 "nbformat_minor": 5
}

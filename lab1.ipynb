{
 "cells": [
  {
   "cell_type": "markdown",
   "metadata": {},
   "source": [
    "Before you turn this lab in, make sure everything runs as expected. **Restart and run all cells** (in the menubar, select Kernel$\\rightarrow$Restart & Run All) then check the output is as expected and there are no errors.  Also remember to **Save** before uploading this file (File$\\rightarrow$Save and Checkpoint)."
   ]
  },
  {
   "cell_type": "markdown",
   "metadata": {},
   "source": [
    "---"
   ]
  },
  {
   "cell_type": "markdown",
   "metadata": {},
   "source": [
    "# <div align=\"center\">Quantum Computer Systems Design</div>&nbsp;  <div align=\"center\">Lab 1</div> \n",
    "\n",
    "### 1. Quantum Logic Warm-up\n",
    "How does a quantum computer store and manipulate information? In this problem, we will compare and contrast quantum logic against its classical counterpart, boolean logic.\n",
    "\n",
    "#### 1.1 Classical coin-flip gate.\n",
    "Suppose CCOIN is a classical conditional random gate that tosses a biased coin if the input is $|1\\rangle$. Specifically, if the input is $|0\\rangle$, CCOIN does nothing, otherwise, it generates bit $|0\\rangle$ with probability $1/4$ and generates bit $|1\\rangle$ with probability $3/4$. Schematically, CCOIN gate takes one input bit and returns one output bit, as shown below:\n",
    "$$\\text{CCOIN} = \\begin{cases}|0\\rangle \\rightarrow |0\\rangle, \\\\ |1\\rangle \\rightarrow 1/4|0\\rangle + 3/4|1\\rangle. \\end{cases}$$&nbsp;\n",
    "Notice that, in our notation, a *random bit* is written as $p|0\\rangle+(1-p)|1\\rangle$, if it is $|0\\rangle$ with probability $p$ and generates bit $|1\\rangle$ with probability $1-p$.\n",
    "\n",
    "#### 1.1.1\n",
    "Give the random bit resulting from applying the CCOIN gate on an input bit $1/3|0\\rangle+2/3|1\\rangle$. Enter your solution below by giving the probability of outputing $|0\\rangle$.\n",
    "\n",
    "For all questions, you may either give a numeric answer such as `0.2928932188` or an expression like `1-np.sin(np.pi/4)`"
   ]
  },
  {
   "cell_type": "code",
   "execution_count": 9,
   "metadata": {
    "deletable": false,
    "nbgrader": {
     "cell_type": "code",
     "checksum": "65e2e96149e40ff9cc49bf58cc910b9d",
     "grade": false,
     "grade_id": "1-1-1",
     "locked": false,
     "schema_version": 3,
     "solution": true,
     "task": false
    }
   },
   "outputs": [
    {
     "name": "stdout",
     "output_type": "stream",
     "text": [
      "0.4444444444444444\n"
     ]
    }
   ],
   "source": [
    "import numpy as np\n",
    "prob_output_0 = 4/9\n",
    "print(prob_output_0)"
   ]
  },
  {
   "cell_type": "code",
   "execution_count": 10,
   "metadata": {
    "deletable": false,
    "editable": false,
    "nbgrader": {
     "cell_type": "code",
     "checksum": "2f2b4ac3576c8863c4ba320eb66bd708",
     "grade": true,
     "grade_id": "1-1-1-test",
     "locked": true,
     "points": 10,
     "schema_version": 3,
     "solution": false,
     "task": false
    }
   },
   "outputs": [],
   "source": [
    "# Do not delete this cell\n",
    "# The autograder will test the value stored in prob_output_0\n",
    "# Pass all the below test(s) and the hidden tests for full credit\n",
    "assert 0 <= prob_output_0 <= 1, 'The probability should be between 0 and 1'"
   ]
  },
  {
   "cell_type": "markdown",
   "metadata": {},
   "source": [
    "#### 1.1.2 \n",
    "Give the random bit resulting from applying the CCOIN gate *twice* on an input bit $2/5|0\\rangle+3/5|1\\rangle$. Enter your solution below by giving the final probability of outputing $|0\\rangle$. "
   ]
  },
  {
   "cell_type": "code",
   "execution_count": 11,
   "metadata": {
    "deletable": false,
    "nbgrader": {
     "cell_type": "code",
     "checksum": "8baceadd3c56526799cd62c74b54420e",
     "grade": false,
     "grade_id": "1-1-2",
     "locked": false,
     "schema_version": 3,
     "solution": true,
     "task": false
    }
   },
   "outputs": [
    {
     "name": "stdout",
     "output_type": "stream",
     "text": [
      "0.85\n"
     ]
    }
   ],
   "source": [
    "prob_twice_0 = 17/20\n",
    "\n",
    "print(prob_twice_0)"
   ]
  },
  {
   "cell_type": "code",
   "execution_count": 12,
   "metadata": {
    "deletable": false,
    "editable": false,
    "nbgrader": {
     "cell_type": "code",
     "checksum": "26d9fe54dc9f8e5e0aa276d7858b876d",
     "grade": true,
     "grade_id": "1-1-2-test",
     "locked": true,
     "points": 10,
     "schema_version": 3,
     "solution": false,
     "task": false
    }
   },
   "outputs": [],
   "source": [
    "# Do not delete this cell\n",
    "# Pass all the below test(s) and the hidden tests for full credit\n",
    "assert 0 <= prob_twice_0 <= 1, 'The probability should be between 0 and 1'"
   ]
  },
  {
   "cell_type": "markdown",
   "metadata": {},
   "source": [
    "#### 1.2 Classical Coin to Quantum Coin\n",
    "Given our definition of the CCOIN gate, we need to implement a biased coin. The following simple classical program invokes a pseudo random generator in `numpy.random`. (Feel free to execute the following code to see the sampling outcome.)"
   ]
  },
  {
   "cell_type": "code",
   "execution_count": 65,
   "metadata": {},
   "outputs": [
    {
     "data": {
      "image/png": "[encoded data removed]",
      "text/plain": [
       "<Figure size 640x480 with 1 Axes>"
      ]
     },
     "metadata": {},
     "output_type": "display_data"
    }
   ],
   "source": [
    "import numpy as np\n",
    "import matplotlib.pyplot as plt\n",
    "%matplotlib inline\n",
    "\n",
    "def coin_classical():\n",
    "    return np.random.choice([0,1], p=[1./4, 3./4])\n",
    "        \n",
    "counts_classical = [coin_classical() for _ in range(1000)]\n",
    "plt.hist(counts_classical, 10,\n",
    "         histtype='bar')\n",
    "plt.title('Classical Coin')\n",
    "plt.show()"
   ]
  },
  {
   "cell_type": "markdown",
   "metadata": {},
   "source": [
    "#### 1.2.1 \n",
    "Now, suppose we want to implement a quantum coin. Give a quantum circuit that implements the same biased coin from above, that is the measurement outcome of a qubit is bit $|0\\rangle$ with probability $1/4$ and bit $|1\\rangle$ with probability $3/4$. You may use up to *two* qubits (initialized to $|00\\rangle$) and any built in gates. (Hint: you may want a controlled-Hadamard gate: `CHGate`)"
   ]
  },
  {
   "cell_type": "code",
   "execution_count": 66,
   "metadata": {
    "deletable": false,
    "nbgrader": {
     "cell_type": "code",
     "checksum": "2025c02d7cf245c536caa2f2ff7a6e08",
     "grade": false,
     "grade_id": "1-2-1",
     "locked": false,
     "schema_version": 3,
     "solution": true,
     "task": false
    }
   },
   "outputs": [
    {
     "name": "stdout",
     "output_type": "stream",
     "text": [
      "     ┌──────────┐┌─┐\n",
      "  q: ┤ Ry(2π/3) ├┤M├\n",
      "     └──────────┘└╥┘\n",
      "c: 1/═════════════╩═\n",
      "                  0 \n"
     ]
    }
   ],
   "source": [
    "from qiskit import QuantumCircuit, QuantumRegister, ClassicalRegister\n",
    "from qiskit import Aer, execute\n",
    "from qiskit.tools.visualization import plot_histogram\n",
    "import numpy as np\n",
    "\n",
    "# Maximum of two qubits are allowed.\n",
    "# Measure only one of the qubits.\n",
    "coin_quantum = QuantumCircuit(1, 1)\n",
    "\n",
    "theta = 2 * np.arcsin(np.sqrt(0.75))  # Calculate the rotation angle\n",
    "coin_quantum.ry(theta, 0)  # Apply Ry rotation to the qubit\n",
    "\n",
    "# Measure the second qubit\n",
    "coin_quantum.measure(0, 0)\n",
    "\n",
    "coin_quantum.draw()\n",
    "print(coin_quantum)"
   ]
  },
  {
   "cell_type": "code",
   "execution_count": 67,
   "metadata": {},
   "outputs": [
    {
     "name": "stdout",
     "output_type": "stream",
     "text": [
      "Sampled outcomes: {'1': 753, '0': 247}\n"
     ]
    },
    {
     "data": {
      "image/png": "[encoded data removed]",
      "text/plain": [
       "<Figure size 700x500 with 1 Axes>"
      ]
     },
     "execution_count": 67,
     "metadata": {},
     "output_type": "execute_result"
    }
   ],
   "source": [
    "# Testing your circuit\n",
    "simulator = Aer.get_backend('qasm_simulator')  # Use the simulator from qiskit Aer\n",
    "\n",
    "job = execute(coin_quantum, simulator, shots=1000)\n",
    "result = job.result()\n",
    "counts_quantum = result.get_counts(coin_quantum)\n",
    "print('Sampled outcomes:', counts_quantum)\n",
    "plot_histogram(counts_quantum, title='Quantum Coin')"
   ]
  },
  {
   "cell_type": "code",
   "execution_count": 68,
   "metadata": {
    "deletable": false,
    "editable": false,
    "nbgrader": {
     "cell_type": "code",
     "checksum": "818f941ec5b52ca9d3e46c92b391af38",
     "grade": true,
     "grade_id": "1-2-1-test",
     "locked": true,
     "points": 10,
     "schema_version": 3,
     "solution": false,
     "task": false
    }
   },
   "outputs": [],
   "source": [
    "# Do not delete this cell\n",
    "# Pass all the below test(s) and the hidden tests for full credit\n",
    "assert len(coin_quantum) > 0, 'Empty circuit, add gates with coin_quantum.<gate_name>(q0, ...)'\n",
    "assert len(counts_quantum) == 2, 'The circuit should have two possible outcomes'\n",
    "assert 220 <= counts_quantum['0'] <= 280, 'Probability of |0> should be 1/4'\n",
    "assert 720 <= counts_quantum['1'] <= 780, 'Probability of |1> should be 3/4'"
   ]
  },
  {
   "cell_type": "markdown",
   "metadata": {},
   "source": [
    "### 2. Quantum Logic Gates\n",
    "In this problem, we will review single-qubit quantum gates, and their action on the three principal axes of spin measurement, i.e. $\\hat{x}$, $\\hat{y}$, and $\\hat{z}$. Using the notation in lecture, we denote the pair of eigen-states in each axis as follows: \n",
    "* $(|+\\rangle, |-\\rangle)$ for $\\hat{x}$ axis,\n",
    "* $(|i\\rangle, |-i\\rangle)$ for $\\hat{y}$ axis,\n",
    "* $(|0\\rangle, |1\\rangle)$ for $\\hat{z}$ axis.\n",
    "\n",
    "where $|+\\rangle = \\frac{1}{\\sqrt{2}}(|0\\rangle+|1\\rangle), |-\\rangle = \\frac{1}{\\sqrt{2}}(|0\\rangle-|1\\rangle), |i\\rangle = \\frac{1}{\\sqrt{2}}(|0\\rangle+i|1\\rangle), |-i\\rangle = \\frac{1}{\\sqrt{2}}(|0\\rangle-i|1\\rangle).$\n",
    "\n",
    "#### 2.1 Clifford Gates\n",
    "The single-qubit Clifford gates can be viewed as a map from one eigen-state to another eigen-state. As such, the action of a Clifford gate can be described as how the gate transforms the three eigen-states respectively. For example, for a Hadamard gate and an S gate:\n",
    "* H gate: $(|+\\rangle, |i\\rangle, |0\\rangle) \\rightarrow (|0\\rangle, |-i\\rangle, |+\\rangle)$,\n",
    "* S gate: $(|+\\rangle, |i\\rangle, |0\\rangle) \\rightarrow (|i\\rangle, |-\\rangle, |0\\rangle)$. \n",
    "\n",
    "Feel free to verify this mapping by manipulating and executing the code block below."
   ]
  },
  {
   "cell_type": "code",
   "execution_count": 69,
   "metadata": {},
   "outputs": [
    {
     "name": "stdout",
     "output_type": "stream",
     "text": [
      "Statevector([1.-6.123234e-17j, 0.+6.123234e-17j],\n",
      "            dims=(2,))\n"
     ]
    }
   ],
   "source": [
    "from math import sqrt\n",
    "from qiskit import QuantumCircuit, QuantumRegister, ClassicalRegister\n",
    "from qiskit import Aer, execute\n",
    "simulator = Aer.get_backend('statevector_simulator')\n",
    "\n",
    "qc21demo = QuantumCircuit(1)\n",
    "\n",
    "initial_x = [1/sqrt(2), 1/sqrt(2)] # define initial state as |+>\n",
    "qc21demo.initialize(initial_x, 0)\n",
    "qc21demo.h(0)\n",
    "state = execute(qc21demo, simulator).result().get_statevector() # execute circuit\n",
    "print(state) # show amplitudes"
   ]
  },
  {
   "cell_type": "markdown",
   "metadata": {},
   "source": [
    "#### 2.1.1\n",
    "Give the sequence of Hadamard gates and S gates which produces the following map. If the map is not possible, leave the quantum circuit blank.\n",
    "$$(|+\\rangle, |i\\rangle, |0\\rangle) \\rightarrow (|0\\rangle, |+\\rangle, |i\\rangle)$$"
   ]
  },
  {
   "cell_type": "code",
   "execution_count": 70,
   "metadata": {
    "deletable": false,
    "nbgrader": {
     "cell_type": "code",
     "checksum": "913571a452fe8c9eb6f4b9b5a72d1d74",
     "grade": false,
     "grade_id": "2-1-1",
     "locked": false,
     "schema_version": 3,
     "solution": true,
     "task": false
    }
   },
   "outputs": [
    {
     "data": {
      "text/html": [
       "<pre style=\"word-wrap: normal;white-space: pre;background: #fff0;line-height: 1.1;font-family: &quot;Courier New&quot;,Courier,monospace\">   ┌───┐┌───┐\n",
       "q: ┤ H ├┤ S ├\n",
       "   └───┘└───┘</pre>"
      ],
      "text/plain": [
       "   ┌───┐┌───┐\n",
       "q: ┤ H ├┤ S ├\n",
       "   └───┘└───┘"
      ]
     },
     "execution_count": 70,
     "metadata": {},
     "output_type": "execute_result"
    }
   ],
   "source": [
    "from qiskit import QuantumCircuit\n",
    "\n",
    "# Initialize quantum circuit with one qubit\n",
    "qc211 = QuantumCircuit(1)\n",
    "\n",
    "# Apply the sequence of gate s\n",
    "qc211.h(0)      # In the first step, H gate converts + to 0, i to -i, and 0 to + which results in 0, -i, and +\n",
    "qc211.s(0)      # In the second step, S gate converts + to i, -i to +, and 0 to 0 which results in 0, i, and +\n",
    "\n",
    "# Draw the circuit\n",
    "qc211.draw(fold=-1)"
   ]
  },
  {
   "cell_type": "code",
   "execution_count": 71,
   "metadata": {
    "deletable": false,
    "editable": false,
    "nbgrader": {
     "cell_type": "code",
     "checksum": "26b7d6c7e43a2fa4beafa97ad6de9aef",
     "grade": true,
     "grade_id": "2-1-1-test",
     "locked": true,
     "points": 10,
     "schema_version": 3,
     "solution": false,
     "task": false
    }
   },
   "outputs": [
    {
     "name": "stdout",
     "output_type": "stream",
     "text": [
      "Correct:   | +> -> | 0>\n",
      "Correct:   | i> -> | +>\n",
      "Correct:   | 0> -> | i>\n",
      "Correct:   | -> -> | 1>\n",
      "Correct:   |-i> -> | ->\n",
      "Correct:   | 1> -> |-i>\n"
     ]
    },
    {
     "name": "stderr",
     "output_type": "stream",
     "text": [
      "C:\\Users\\admin\\AppData\\Local\\Temp\\ipykernel_10184\\1091487383.py:28: DeprecationWarning: The QuantumCircuit.__iadd__() method is being deprecated. Use the compose() (potentially with the inplace=True argument) and tensor() methods which are more flexible w.r.t circuit register compatibility.\n",
      "  qc_test += qc211\n"
     ]
    }
   ],
   "source": [
    "# Do not delete this cell\n",
    "# Testing your circuit\n",
    "# Validate\n",
    "assert set(g.__class__.__name__ for g, _, _ in list(qc211)\n",
    "          ).issubset({'HGate', 'SGate'}), (\n",
    "    'You may only use H and S gates for this problem')\n",
    "\n",
    "# Simulate every input and check the output\n",
    "from qiskit import QuantumCircuit, QuantumRegister, ClassicalRegister\n",
    "from qiskit import Aer, execute\n",
    "from qiskit.quantum_info.operators.predicates import matrix_equal\n",
    "simulator = Aer.get_backend('statevector_simulator')\n",
    "test_states = {\n",
    "    '+': [1/sqrt(2), 1/sqrt(2)], '-': [1/sqrt(2), -1/sqrt(2)],\n",
    "    'i': [1/sqrt(2), 1j/sqrt(2)], '-i': [1/sqrt(2), -1j/sqrt(2)],\n",
    "    '0': [1, 0], '1': [0, 1],\n",
    "}\n",
    "expected_transform = {\n",
    "    '+': '0', 'i': '+', '0': 'i',\n",
    "    '-': '1', '-i': '-', '1': '-i',\n",
    "}\n",
    "invalid = False\n",
    "for input_name, output_name in expected_transform.items():\n",
    "    #print(f'Testing input |{input_name}> with expected output |{output_name}>...')\n",
    "    # Simulate\n",
    "    qc_test = QuantumCircuit(1)\n",
    "    qc_test.initialize(test_states[input_name], 0)\n",
    "    qc_test += qc211\n",
    "    state = execute(qc_test, simulator).result().get_statevector() # execute circuit\n",
    "    state_name = str(state)\n",
    "    for comp_name, comp_state in test_states.items():\n",
    "        if matrix_equal(state, comp_state,\n",
    "                        ignore_phase=True, atol=1e-8, rtol=1e-8):\n",
    "            state_name = comp_name\n",
    "    if state_name == output_name:\n",
    "        print(f'Correct:   |{input_name:>2}> -> |{output_name:>2}>')\n",
    "    else:\n",
    "        invalid = True\n",
    "        print(f'Incorrect: |{input_name:>2}> -> |{state_name:>2}> (expected {output_name:>2})')\n",
    "assert not invalid, 'At least one output of your circuit is wrong.'"
   ]
  },
  {
   "cell_type": "markdown",
   "metadata": {},
   "source": [
    "#### 2.1.2\n",
    "Give the sequence of Hadamard gates and S gates which produces the following map. If the map is not possible, leave the quantum circuit blank.\n",
    "$$(|+\\rangle, |i\\rangle, |0\\rangle) \\rightarrow (|+\\rangle, |-i\\rangle, |1\\rangle)$$"
   ]
  },
  {
   "cell_type": "code",
   "execution_count": 3,
   "metadata": {
    "deletable": false,
    "nbgrader": {
     "cell_type": "code",
     "checksum": "1d51235d040bbb6510a289fa1af36ade",
     "grade": false,
     "grade_id": "2-1-2",
     "locked": false,
     "schema_version": 3,
     "solution": true,
     "task": false
    }
   },
   "outputs": [
    {
     "name": "stdout",
     "output_type": "stream",
     "text": [
      "   ┌───┐┌───┐\n",
      "q: ┤ H ├┤ S ├\n",
      "   └───┘└───┘\n"
     ]
    }
   ],
   "source": [
    "from qiskit import QuantumCircuit\n",
    "\n",
    "# Initialize quantum circuit with one qubit\n",
    "qc212 = QuantumCircuit(1)\n",
    "\n",
    "qc212.h(0)\n",
    "qc212.s(0)\n",
    "\n",
    "# Draw the circuit\n",
    "print(qc212.draw(fold=-1))"
   ]
  },
  {
   "cell_type": "code",
   "execution_count": 4,
   "metadata": {
    "deletable": false,
    "editable": false,
    "nbgrader": {
     "cell_type": "code",
     "checksum": "9cdf9c91ddcf80597761353edaade90d",
     "grade": true,
     "grade_id": "2-1-2-test",
     "locked": true,
     "points": 10,
     "schema_version": 3,
     "solution": false,
     "task": false
    }
   },
   "outputs": [],
   "source": [
    "# Do not delete this cell\n",
    "# Testing your circuit\n",
    "# Validate\n",
    "assert set(g.__class__.__name__ for g, _, _ in list(qc212)\n",
    "          ).issubset({'HGate', 'SGate'}), (\n",
    "    'You may only use H and S gates for this problem')\n",
    "\n",
    "# Don't forget to test that your circuit has the correct output for every input"
   ]
  },
  {
   "cell_type": "markdown",
   "metadata": {},
   "source": [
    "#### 2.1.3\n",
    "Give the sequence of Hadamard gates and S gates which produces the following map. If the map is not possible, leave the quantum circuit blank.\n",
    "$$(|+\\rangle, |i\\rangle, |0\\rangle) \\rightarrow (|0\\rangle, |i\\rangle, |+\\rangle)$$"
   ]
  },
  {
   "cell_type": "code",
   "execution_count": 5,
   "metadata": {
    "deletable": false,
    "nbgrader": {
     "cell_type": "code",
     "checksum": "425e3d7d5e9ae8c51f15a679dd395308",
     "grade": false,
     "grade_id": "2-1-3",
     "locked": false,
     "schema_version": 3,
     "solution": true,
     "task": false
    }
   },
   "outputs": [
    {
     "data": {
      "text/html": [
       "<pre style=\"word-wrap: normal;white-space: pre;background: #fff0;line-height: 1.1;font-family: &quot;Courier New&quot;,Courier,monospace\">   \n",
       "q: \n",
       "   </pre>"
      ],
      "text/plain": [
       "   \n",
       "q: \n",
       "   "
      ]
     },
     "execution_count": 5,
     "metadata": {},
     "output_type": "execute_result"
    }
   ],
   "source": [
    "qc213 = QuantumCircuit(1)\n",
    "\n",
    "qc213.draw(fold=-1)"
   ]
  },
  {
   "cell_type": "code",
   "execution_count": 6,
   "metadata": {
    "deletable": false,
    "editable": false,
    "nbgrader": {
     "cell_type": "code",
     "checksum": "d97b6bfee43676628c6f24376c5b0b16",
     "grade": true,
     "grade_id": "2-1-3-test",
     "locked": true,
     "points": 10,
     "schema_version": 3,
     "solution": false,
     "task": false
    }
   },
   "outputs": [],
   "source": [
    "# Do not delete this cell\n",
    "# Testing your circuit\n",
    "# Validate\n",
    "assert set(g.__class__.__name__ for g, _, _ in list(qc213)\n",
    "          ).issubset({'HGate', 'SGate'}), (\n",
    "    'You may only use H and S gates for this problem')\n",
    "\n",
    "# Don't forget to test that your circuit has the correct output for every input"
   ]
  },
  {
   "cell_type": "markdown",
   "metadata": {},
   "source": [
    "#### 2.1.4\n",
    "Give the sequence of Hadamard gates and S gates which produces the following map. If the map is not possible, leave the quantum circuit blank.\n",
    "$$(|+\\rangle, |i\\rangle, |0\\rangle) \\rightarrow (|1\\rangle, |i\\rangle, |+\\rangle)$$"
   ]
  },
  {
   "cell_type": "code",
   "execution_count": 81,
   "metadata": {
    "deletable": false,
    "nbgrader": {
     "cell_type": "code",
     "checksum": "06f6ea71478d9d28e53050c12ac7ac86",
     "grade": false,
     "grade_id": "2-1-4",
     "locked": false,
     "schema_version": 3,
     "solution": true,
     "task": false
    }
   },
   "outputs": [
    {
     "data": {
      "text/html": [
       "<pre style=\"word-wrap: normal;white-space: pre;background: #fff0;line-height: 1.1;font-family: &quot;Courier New&quot;,Courier,monospace\">   ┌───┐┌───┐┌───┐\n",
       "q: ┤ S ├┤ S ├┤ H ├\n",
       "   └───┘└───┘└───┘</pre>"
      ],
      "text/plain": [
       "   ┌───┐┌───┐┌───┐\n",
       "q: ┤ S ├┤ S ├┤ H ├\n",
       "   └───┘└───┘└───┘"
      ]
     },
     "execution_count": 81,
     "metadata": {},
     "output_type": "execute_result"
    }
   ],
   "source": [
    "qc214 = QuantumCircuit(1)\n",
    "\n",
    "\n",
    "qc214.s(0)\n",
    "qc214.s(0)\n",
    "qc214.h(0)\n",
    "\n",
    "qc214.draw(fold=-1)"
   ]
  },
  {
   "cell_type": "code",
   "execution_count": 83,
   "metadata": {
    "deletable": false,
    "editable": false,
    "nbgrader": {
     "cell_type": "code",
     "checksum": "81063850ac01eade6103ea2ad37fb8bd",
     "grade": true,
     "grade_id": "2-1-4-test",
     "locked": true,
     "points": 10,
     "schema_version": 3,
     "solution": false,
     "task": false
    }
   },
   "outputs": [],
   "source": [
    "# Do not delete this cell\n",
    "# Testing your circuit\n",
    "# Validate\n",
    "assert set(g.__class__.__name__ for g, _, _ in list(qc214)\n",
    "          ).issubset({'HGate', 'SGate'}), (\n",
    "    'You may only use H and S gates for this problem')\n",
    "\n",
    "# Don't forget to test that your circuit has the correct output for every input"
   ]
  },
  {
   "cell_type": "markdown",
   "metadata": {},
   "source": [
    "#### 2.1.5\n",
    "Give the sequence of Hadamard gates and S gates which produces the following map. If the map is not possible, leave the quantum circuit blank.\n",
    "$$(|+\\rangle, |i\\rangle, |0\\rangle) \\rightarrow (|1\\rangle, |-\\rangle, |i\\rangle)$$"
   ]
  },
  {
   "cell_type": "code",
   "execution_count": 84,
   "metadata": {
    "deletable": false,
    "nbgrader": {
     "cell_type": "code",
     "checksum": "c9c547a811823343738fe32cb56f9de6",
     "grade": false,
     "grade_id": "2-1-5",
     "locked": false,
     "schema_version": 3,
     "solution": true,
     "task": false
    }
   },
   "outputs": [
    {
     "data": {
      "text/html": [
       "<pre style=\"word-wrap: normal;white-space: pre;background: #fff0;line-height: 1.1;font-family: &quot;Courier New&quot;,Courier,monospace\">   ┌───┐┌───┐┌───┐┌───┐\n",
       "q: ┤ S ├┤ H ├┤ S ├┤ S ├\n",
       "   └───┘└───┘└───┘└───┘</pre>"
      ],
      "text/plain": [
       "   ┌───┐┌───┐┌───┐┌───┐\n",
       "q: ┤ S ├┤ H ├┤ S ├┤ S ├\n",
       "   └───┘└───┘└───┘└───┘"
      ]
     },
     "execution_count": 84,
     "metadata": {},
     "output_type": "execute_result"
    }
   ],
   "source": [
    "qc215 = QuantumCircuit(1)\n",
    "\n",
    "qc215.draw(fold=-1)"
   ]
  },
  {
   "cell_type": "code",
   "execution_count": 86,
   "metadata": {
    "deletable": false,
    "editable": false,
    "nbgrader": {
     "cell_type": "code",
     "checksum": "21e3907f1bc601059272bffa054ece47",
     "grade": true,
     "grade_id": "2-1-5-test",
     "locked": true,
     "points": 10,
     "schema_version": 3,
     "solution": false,
     "task": false
    }
   },
   "outputs": [],
   "source": [
    "# Do not delete this cell\n",
    "# Testing your circuit\n",
    "# Validate\n",
    "assert set(g.__class__.__name__ for g, _, _ in list(qc215)\n",
    "          ).issubset({'HGate', 'SGate'}), (\n",
    "    'You may only use H and S gates for this problem')\n",
    "\n",
    "# Don't forget to test that your circuit has the correct output for every input"
   ]
  }
 ],
 "metadata": {
  "@webio": {
   "lastCommId": null,
   "lastKernelId": null
  },
  "kernelspec": {
   "display_name": "Python 3 (ipykernel)",
   "language": "python",
   "name": "python3"
  },
  "language_info": {
   "codemirror_mode": {
    "name": "ipython",
    "version": 3
   },
   "file_extension": ".py",
   "mimetype": "text/x-python",
   "name": "python",
   "nbconvert_exporter": "python",
   "pygments_lexer": "ipython3",
   "version": "3.8.19"
  }
 },
 "nbformat": 4,
 "nbformat_minor": 4
}
